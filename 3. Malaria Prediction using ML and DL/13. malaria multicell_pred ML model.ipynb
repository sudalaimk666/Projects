{
 "cells": [
  {
   "cell_type": "code",
   "execution_count": 1,
   "metadata": {
    "ExecuteTime": {
     "end_time": "2021-06-20T18:39:22.582278Z",
     "start_time": "2021-06-20T18:39:20.266822Z"
    },
    "id": "IANuSob6u-Rz"
   },
   "outputs": [],
   "source": [
    "import pandas as pd\n",
    "import numpy as np\n",
    "import matplotlib.pyplot as plt\n",
    "import seaborn as sns"
   ]
  },
  {
   "cell_type": "code",
   "execution_count": 2,
   "metadata": {
    "ExecuteTime": {
     "end_time": "2021-06-20T18:39:41.644728Z",
     "start_time": "2021-06-20T18:39:22.585267Z"
    },
    "id": "Qr3UObJpvLxU"
   },
   "outputs": [],
   "source": [
    "mal_data=pd.read_csv(\"mal_features_svm.csv\")"
   ]
  },
  {
   "cell_type": "code",
   "execution_count": 3,
   "metadata": {
    "ExecuteTime": {
     "end_time": "2021-06-20T18:39:41.681274Z",
     "start_time": "2021-06-20T18:39:41.644728Z"
    },
    "colab": {
     "base_uri": "https://localhost:8080/"
    },
    "id": "Q3E4ubgBwmYs",
    "outputId": "bd0a3d76-cf81-453e-9e9f-5599cc10607d"
   },
   "outputs": [
    {
     "data": {
      "text/plain": [
       "(620, 25089)"
      ]
     },
     "execution_count": 3,
     "metadata": {},
     "output_type": "execute_result"
    }
   ],
   "source": [
    "mal_data.shape"
   ]
  },
  {
   "cell_type": "code",
   "execution_count": 4,
   "metadata": {
    "ExecuteTime": {
     "end_time": "2021-06-20T18:39:41.697232Z",
     "start_time": "2021-06-20T18:39:41.685265Z"
    },
    "colab": {
     "base_uri": "https://localhost:8080/"
    },
    "id": "GwvoX3YIw_JD",
    "outputId": "8f477656-5f81-40eb-9384-ffaf9bbdd7b2"
   },
   "outputs": [
    {
     "data": {
      "text/plain": [
       "Index(['Feature_0', 'Feature_1', 'Feature_2', 'Feature_3', 'Feature_4',\n",
       "       'Feature_5', 'Feature_6', 'Feature_7', 'Feature_8', 'Feature_9',\n",
       "       ...\n",
       "       'Feature_25079', 'Feature_25080', 'Feature_25081', 'Feature_25082',\n",
       "       'Feature_25083', 'Feature_25084', 'Feature_25085', 'Feature_25086',\n",
       "       'Feature_25087', 'Feature_Target'],\n",
       "      dtype='object', length=25089)"
      ]
     },
     "execution_count": 4,
     "metadata": {},
     "output_type": "execute_result"
    }
   ],
   "source": [
    "mal_data.columns"
   ]
  },
  {
   "cell_type": "code",
   "execution_count": 5,
   "metadata": {
    "ExecuteTime": {
     "end_time": "2021-06-20T18:39:41.728149Z",
     "start_time": "2021-06-20T18:39:41.700223Z"
    },
    "colab": {
     "base_uri": "https://localhost:8080/"
    },
    "id": "ePnPxb7WyKql",
    "outputId": "a8e75f09-7bff-4809-b9dd-e092cd84b4a4"
   },
   "outputs": [
    {
     "data": {
      "text/plain": [
       "1    321\n",
       "0    299\n",
       "Name: Feature_Target, dtype: int64"
      ]
     },
     "execution_count": 5,
     "metadata": {},
     "output_type": "execute_result"
    }
   ],
   "source": [
    "mal_data['Feature_Target'].value_counts()"
   ]
  },
  {
   "cell_type": "code",
   "execution_count": 6,
   "metadata": {
    "ExecuteTime": {
     "end_time": "2021-06-20T18:39:41.837856Z",
     "start_time": "2021-06-20T18:39:41.731141Z"
    },
    "colab": {
     "base_uri": "https://localhost:8080/",
     "height": 252
    },
    "id": "6of03aZayWm_",
    "outputId": "8771a367-2b1d-482f-fb36-69e1c0ffb758"
   },
   "outputs": [
    {
     "data": {
      "text/html": [
       "<div>\n",
       "<style scoped>\n",
       "    .dataframe tbody tr th:only-of-type {\n",
       "        vertical-align: middle;\n",
       "    }\n",
       "\n",
       "    .dataframe tbody tr th {\n",
       "        vertical-align: top;\n",
       "    }\n",
       "\n",
       "    .dataframe thead th {\n",
       "        text-align: right;\n",
       "    }\n",
       "</style>\n",
       "<table border=\"1\" class=\"dataframe\">\n",
       "  <thead>\n",
       "    <tr style=\"text-align: right;\">\n",
       "      <th></th>\n",
       "      <th>Feature_0</th>\n",
       "      <th>Feature_1</th>\n",
       "      <th>Feature_2</th>\n",
       "      <th>Feature_3</th>\n",
       "      <th>Feature_4</th>\n",
       "      <th>Feature_5</th>\n",
       "      <th>Feature_6</th>\n",
       "      <th>Feature_7</th>\n",
       "      <th>Feature_8</th>\n",
       "      <th>Feature_9</th>\n",
       "      <th>...</th>\n",
       "      <th>Feature_25078</th>\n",
       "      <th>Feature_25079</th>\n",
       "      <th>Feature_25080</th>\n",
       "      <th>Feature_25081</th>\n",
       "      <th>Feature_25082</th>\n",
       "      <th>Feature_25083</th>\n",
       "      <th>Feature_25084</th>\n",
       "      <th>Feature_25085</th>\n",
       "      <th>Feature_25086</th>\n",
       "      <th>Feature_25087</th>\n",
       "    </tr>\n",
       "  </thead>\n",
       "  <tbody>\n",
       "    <tr>\n",
       "      <th>0</th>\n",
       "      <td>0.686681</td>\n",
       "      <td>0.0</td>\n",
       "      <td>0.318760</td>\n",
       "      <td>0.240281</td>\n",
       "      <td>0.554595</td>\n",
       "      <td>0.0</td>\n",
       "      <td>0.0</td>\n",
       "      <td>0.0</td>\n",
       "      <td>0.0</td>\n",
       "      <td>0.170058</td>\n",
       "      <td>...</td>\n",
       "      <td>1.228569</td>\n",
       "      <td>0.119431</td>\n",
       "      <td>0.257480</td>\n",
       "      <td>0.662474</td>\n",
       "      <td>0.016617</td>\n",
       "      <td>0.191417</td>\n",
       "      <td>0.0</td>\n",
       "      <td>0.0</td>\n",
       "      <td>0.658417</td>\n",
       "      <td>0.0</td>\n",
       "    </tr>\n",
       "    <tr>\n",
       "      <th>1</th>\n",
       "      <td>0.684697</td>\n",
       "      <td>0.0</td>\n",
       "      <td>0.344277</td>\n",
       "      <td>0.269630</td>\n",
       "      <td>0.549066</td>\n",
       "      <td>0.0</td>\n",
       "      <td>0.0</td>\n",
       "      <td>0.0</td>\n",
       "      <td>0.0</td>\n",
       "      <td>0.205106</td>\n",
       "      <td>...</td>\n",
       "      <td>1.193470</td>\n",
       "      <td>0.086857</td>\n",
       "      <td>0.193028</td>\n",
       "      <td>0.942626</td>\n",
       "      <td>0.035129</td>\n",
       "      <td>0.148231</td>\n",
       "      <td>0.0</td>\n",
       "      <td>0.0</td>\n",
       "      <td>0.604428</td>\n",
       "      <td>0.0</td>\n",
       "    </tr>\n",
       "    <tr>\n",
       "      <th>2</th>\n",
       "      <td>0.612214</td>\n",
       "      <td>0.0</td>\n",
       "      <td>0.228447</td>\n",
       "      <td>0.059155</td>\n",
       "      <td>0.381893</td>\n",
       "      <td>0.0</td>\n",
       "      <td>0.0</td>\n",
       "      <td>0.0</td>\n",
       "      <td>0.0</td>\n",
       "      <td>0.220718</td>\n",
       "      <td>...</td>\n",
       "      <td>0.963619</td>\n",
       "      <td>0.000000</td>\n",
       "      <td>0.166425</td>\n",
       "      <td>1.293168</td>\n",
       "      <td>0.017087</td>\n",
       "      <td>0.025265</td>\n",
       "      <td>0.0</td>\n",
       "      <td>0.0</td>\n",
       "      <td>0.591601</td>\n",
       "      <td>0.0</td>\n",
       "    </tr>\n",
       "    <tr>\n",
       "      <th>3</th>\n",
       "      <td>0.700679</td>\n",
       "      <td>0.0</td>\n",
       "      <td>0.411855</td>\n",
       "      <td>0.335692</td>\n",
       "      <td>0.630833</td>\n",
       "      <td>0.0</td>\n",
       "      <td>0.0</td>\n",
       "      <td>0.0</td>\n",
       "      <td>0.0</td>\n",
       "      <td>0.189966</td>\n",
       "      <td>...</td>\n",
       "      <td>1.301663</td>\n",
       "      <td>0.140057</td>\n",
       "      <td>0.239616</td>\n",
       "      <td>0.339032</td>\n",
       "      <td>0.000000</td>\n",
       "      <td>0.172730</td>\n",
       "      <td>0.0</td>\n",
       "      <td>0.0</td>\n",
       "      <td>0.677015</td>\n",
       "      <td>0.0</td>\n",
       "    </tr>\n",
       "    <tr>\n",
       "      <th>4</th>\n",
       "      <td>0.682861</td>\n",
       "      <td>0.0</td>\n",
       "      <td>0.318166</td>\n",
       "      <td>0.315851</td>\n",
       "      <td>0.561206</td>\n",
       "      <td>0.0</td>\n",
       "      <td>0.0</td>\n",
       "      <td>0.0</td>\n",
       "      <td>0.0</td>\n",
       "      <td>0.196463</td>\n",
       "      <td>...</td>\n",
       "      <td>1.113997</td>\n",
       "      <td>0.052931</td>\n",
       "      <td>0.184190</td>\n",
       "      <td>1.282548</td>\n",
       "      <td>0.041094</td>\n",
       "      <td>0.084949</td>\n",
       "      <td>0.0</td>\n",
       "      <td>0.0</td>\n",
       "      <td>0.576096</td>\n",
       "      <td>0.0</td>\n",
       "    </tr>\n",
       "  </tbody>\n",
       "</table>\n",
       "<p>5 rows × 25088 columns</p>\n",
       "</div>"
      ],
      "text/plain": [
       "   Feature_0  Feature_1  Feature_2  Feature_3  Feature_4  Feature_5  \\\n",
       "0   0.686681        0.0   0.318760   0.240281   0.554595        0.0   \n",
       "1   0.684697        0.0   0.344277   0.269630   0.549066        0.0   \n",
       "2   0.612214        0.0   0.228447   0.059155   0.381893        0.0   \n",
       "3   0.700679        0.0   0.411855   0.335692   0.630833        0.0   \n",
       "4   0.682861        0.0   0.318166   0.315851   0.561206        0.0   \n",
       "\n",
       "   Feature_6  Feature_7  Feature_8  Feature_9  ...  Feature_25078  \\\n",
       "0        0.0        0.0        0.0   0.170058  ...       1.228569   \n",
       "1        0.0        0.0        0.0   0.205106  ...       1.193470   \n",
       "2        0.0        0.0        0.0   0.220718  ...       0.963619   \n",
       "3        0.0        0.0        0.0   0.189966  ...       1.301663   \n",
       "4        0.0        0.0        0.0   0.196463  ...       1.113997   \n",
       "\n",
       "   Feature_25079  Feature_25080  Feature_25081  Feature_25082  Feature_25083  \\\n",
       "0       0.119431       0.257480       0.662474       0.016617       0.191417   \n",
       "1       0.086857       0.193028       0.942626       0.035129       0.148231   \n",
       "2       0.000000       0.166425       1.293168       0.017087       0.025265   \n",
       "3       0.140057       0.239616       0.339032       0.000000       0.172730   \n",
       "4       0.052931       0.184190       1.282548       0.041094       0.084949   \n",
       "\n",
       "   Feature_25084  Feature_25085  Feature_25086  Feature_25087  \n",
       "0            0.0            0.0       0.658417            0.0  \n",
       "1            0.0            0.0       0.604428            0.0  \n",
       "2            0.0            0.0       0.591601            0.0  \n",
       "3            0.0            0.0       0.677015            0.0  \n",
       "4            0.0            0.0       0.576096            0.0  \n",
       "\n",
       "[5 rows x 25088 columns]"
      ]
     },
     "execution_count": 6,
     "metadata": {},
     "output_type": "execute_result"
    }
   ],
   "source": [
    "X = mal_data.drop(['Feature_Target'], axis = 1) # We drop our \"target\" feature and use all the remaining features in our dataframe to train the model.\n",
    "X.head()"
   ]
  },
  {
   "cell_type": "code",
   "execution_count": 7,
   "metadata": {
    "ExecuteTime": {
     "end_time": "2021-06-20T18:39:41.853812Z",
     "start_time": "2021-06-20T18:39:41.840848Z"
    },
    "colab": {
     "base_uri": "https://localhost:8080/"
    },
    "id": "MClxoB_9yoyu",
    "outputId": "9fce0f98-9253-4eb5-d269-c5d3aebf08a1"
   },
   "outputs": [
    {
     "data": {
      "text/plain": [
       "0    1\n",
       "1    1\n",
       "2    1\n",
       "3    1\n",
       "4    1\n",
       "Name: Feature_Target, dtype: int64"
      ]
     },
     "execution_count": 7,
     "metadata": {},
     "output_type": "execute_result"
    }
   ],
   "source": [
    "y = mal_data['Feature_Target']\n",
    "y.head()"
   ]
  },
  {
   "cell_type": "code",
   "execution_count": 8,
   "metadata": {
    "ExecuteTime": {
     "end_time": "2021-06-20T18:39:43.060192Z",
     "start_time": "2021-06-20T18:39:41.858798Z"
    },
    "id": "x9RajTK8y0QL"
   },
   "outputs": [],
   "source": [
    "from sklearn.model_selection import train_test_split"
   ]
  },
  {
   "cell_type": "code",
   "execution_count": 9,
   "metadata": {
    "ExecuteTime": {
     "end_time": "2021-06-20T18:39:43.203810Z",
     "start_time": "2021-06-20T18:39:43.064181Z"
    },
    "id": "rn_mKPsVy9On"
   },
   "outputs": [],
   "source": [
    "X_train, X_test, y_train, y_test = train_test_split(X, y, test_size = 0.3, random_state = 20)"
   ]
  },
  {
   "cell_type": "code",
   "execution_count": 10,
   "metadata": {
    "ExecuteTime": {
     "end_time": "2021-06-20T18:39:43.219765Z",
     "start_time": "2021-06-20T18:39:43.206802Z"
    },
    "colab": {
     "base_uri": "https://localhost:8080/"
    },
    "id": "rITuaPd2zHf1",
    "outputId": "7a498881-eef2-484d-bda3-b28e6faafcdc"
   },
   "outputs": [
    {
     "name": "stdout",
     "output_type": "stream",
     "text": [
      "The size of our training \"X\" (input features) is (434, 25088)\n",
      "\n",
      "\n",
      "The size of our testing \"X\" (input features) is (186, 25088)\n",
      "\n",
      "\n",
      "The size of our training \"y\" (output feature) is (434,)\n",
      "\n",
      "\n",
      "The size of our testing \"y\" (output features) is (186,)\n"
     ]
    }
   ],
   "source": [
    "print ('The size of our training \"X\" (input features) is', X_train.shape)\n",
    "print ('\\n')\n",
    "print ('The size of our testing \"X\" (input features) is', X_test.shape)\n",
    "print ('\\n')\n",
    "print ('The size of our training \"y\" (output feature) is', y_train.shape)\n",
    "print ('\\n')\n",
    "print ('The size of our testing \"y\" (output features) is', y_test.shape)"
   ]
  },
  {
   "cell_type": "code",
   "execution_count": 11,
   "metadata": {
    "ExecuteTime": {
     "end_time": "2021-06-20T18:39:43.299552Z",
     "start_time": "2021-06-20T18:39:43.222757Z"
    },
    "id": "Vf75HBgWzLfI"
   },
   "outputs": [],
   "source": [
    "from sklearn.svm import SVC"
   ]
  },
  {
   "cell_type": "code",
   "execution_count": 12,
   "metadata": {
    "ExecuteTime": {
     "end_time": "2021-06-20T18:39:43.315508Z",
     "start_time": "2021-06-20T18:39:43.301546Z"
    },
    "id": "YJEucfDPzP2k"
   },
   "outputs": [],
   "source": [
    "svc_model = SVC()"
   ]
  },
  {
   "cell_type": "code",
   "execution_count": 13,
   "metadata": {
    "ExecuteTime": {
     "end_time": "2021-06-20T18:39:44.151802Z",
     "start_time": "2021-06-20T18:39:43.317504Z"
    },
    "colab": {
     "base_uri": "https://localhost:8080/",
     "height": 310
    },
    "id": "CVAGYcfWzWZR",
    "outputId": "d06d3368-2be2-45a9-da2d-9cc8b639481e"
   },
   "outputs": [
    {
     "data": {
      "text/plain": [
       "SVC()"
      ]
     },
     "execution_count": 13,
     "metadata": {},
     "output_type": "execute_result"
    }
   ],
   "source": [
    "svc_model.fit(X_train, y_train)"
   ]
  },
  {
   "cell_type": "code",
   "execution_count": 14,
   "metadata": {
    "ExecuteTime": {
     "end_time": "2021-06-20T18:39:44.778282Z",
     "start_time": "2021-06-20T18:39:44.151802Z"
    },
    "id": "schebkDwzbPs"
   },
   "outputs": [],
   "source": [
    "y_predict = svc_model.predict(X_test)"
   ]
  },
  {
   "cell_type": "code",
   "execution_count": 15,
   "metadata": {
    "ExecuteTime": {
     "end_time": "2021-06-20T18:39:44.794354Z",
     "start_time": "2021-06-20T18:39:44.778282Z"
    },
    "id": "Rmxvf5wEzfj9"
   },
   "outputs": [],
   "source": [
    "from sklearn.metrics import classification_report, confusion_matrix"
   ]
  },
  {
   "cell_type": "code",
   "execution_count": 16,
   "metadata": {
    "ExecuteTime": {
     "end_time": "2021-06-20T18:39:44.826270Z",
     "start_time": "2021-06-20T18:39:44.797346Z"
    },
    "colab": {
     "base_uri": "https://localhost:8080/",
     "height": 105
    },
    "id": "_pZYebsszoAm",
    "outputId": "69225b38-8f27-429c-c09a-ba5c3b68444e"
   },
   "outputs": [
    {
     "data": {
      "text/html": [
       "<div>\n",
       "<style scoped>\n",
       "    .dataframe tbody tr th:only-of-type {\n",
       "        vertical-align: middle;\n",
       "    }\n",
       "\n",
       "    .dataframe tbody tr th {\n",
       "        vertical-align: top;\n",
       "    }\n",
       "\n",
       "    .dataframe thead th {\n",
       "        text-align: right;\n",
       "    }\n",
       "</style>\n",
       "<table border=\"1\" class=\"dataframe\">\n",
       "  <thead>\n",
       "    <tr style=\"text-align: right;\">\n",
       "      <th></th>\n",
       "      <th>Predicted_Malaria</th>\n",
       "      <th>Predicted_Healthy</th>\n",
       "    </tr>\n",
       "  </thead>\n",
       "  <tbody>\n",
       "    <tr>\n",
       "      <th>infected</th>\n",
       "      <td>100</td>\n",
       "      <td>0</td>\n",
       "    </tr>\n",
       "    <tr>\n",
       "      <th>uninfected</th>\n",
       "      <td>0</td>\n",
       "      <td>86</td>\n",
       "    </tr>\n",
       "  </tbody>\n",
       "</table>\n",
       "</div>"
      ],
      "text/plain": [
       "            Predicted_Malaria  Predicted_Healthy\n",
       "infected                  100                  0\n",
       "uninfected                  0                 86"
      ]
     },
     "execution_count": 16,
     "metadata": {},
     "output_type": "execute_result"
    }
   ],
   "source": [
    "cm = np.array(confusion_matrix(y_test, y_predict, labels=[1,0]))\n",
    "confusion = pd.DataFrame(cm, index=['infected', 'uninfected'],\n",
    "                         columns=['Predicted_Malaria','Predicted_Healthy'])\n",
    "confusion"
   ]
  },
  {
   "cell_type": "code",
   "execution_count": 17,
   "metadata": {
    "ExecuteTime": {
     "end_time": "2021-06-20T18:39:45.244153Z",
     "start_time": "2021-06-20T18:39:44.829262Z"
    },
    "colab": {
     "base_uri": "https://localhost:8080/",
     "height": 282
    },
    "id": "hRDwZEA8z23-",
    "outputId": "fbffb213-fc57-410c-905f-8cd2a2da8438"
   },
   "outputs": [
    {
     "data": {
      "text/plain": [
       "<AxesSubplot:>"
      ]
     },
     "execution_count": 17,
     "metadata": {},
     "output_type": "execute_result"
    },
    {
     "data": {
      "image/png": "[encoded data removed]",
      "text/plain": [
       "<Figure size 432x288 with 2 Axes>"
      ]
     },
     "metadata": {
      "needs_background": "light"
     },
     "output_type": "display_data"
    }
   ],
   "source": [
    "sns.heatmap(confusion, annot=True)"
   ]
  },
  {
   "cell_type": "code",
   "execution_count": 18,
   "metadata": {
    "ExecuteTime": {
     "end_time": "2021-06-20T18:39:45.271082Z",
     "start_time": "2021-06-20T18:39:45.247146Z"
    },
    "colab": {
     "base_uri": "https://localhost:8080/"
    },
    "id": "rpSK4VKR0HFy",
    "outputId": "9d399bb6-00ae-424d-a85d-bd047a121234"
   },
   "outputs": [
    {
     "name": "stdout",
     "output_type": "stream",
     "text": [
      "              precision    recall  f1-score   support\n",
      "\n",
      "           0       1.00      1.00      1.00        86\n",
      "           1       1.00      1.00      1.00       100\n",
      "\n",
      "    accuracy                           1.00       186\n",
      "   macro avg       1.00      1.00      1.00       186\n",
      "weighted avg       1.00      1.00      1.00       186\n",
      "\n"
     ]
    }
   ],
   "source": [
    "print(classification_report(y_test, y_predict))"
   ]
  },
  {
   "cell_type": "code",
   "execution_count": 19,
   "metadata": {
    "ExecuteTime": {
     "end_time": "2021-06-20T18:39:58.463599Z",
     "start_time": "2021-06-20T18:39:45.275070Z"
    },
    "colab": {
     "base_uri": "https://localhost:8080/"
    },
    "id": "FL8o_gy-y8EO",
    "outputId": "7eb47c19-b29f-49cf-aca8-5f23a1471e08"
   },
   "outputs": [
    {
     "name": "stdout",
     "output_type": "stream",
     "text": [
      "Fitting 5 folds for each of 1 candidates, totalling 5 fits\n",
      "[CV 1/5] END ..................C=0.1, gamma=0.01, kernel=rbf; total time=   1.8s\n",
      "[CV 2/5] END ..................C=0.1, gamma=0.01, kernel=rbf; total time=   2.6s\n",
      "[CV 3/5] END ..................C=0.1, gamma=0.01, kernel=rbf; total time=   2.7s\n",
      "[CV 4/5] END ..................C=0.1, gamma=0.01, kernel=rbf; total time=   2.2s\n",
      "[CV 5/5] END ..................C=0.1, gamma=0.01, kernel=rbf; total time=   1.9s\n"
     ]
    },
    {
     "data": {
      "text/plain": [
       "GridSearchCV(estimator=SVC(),\n",
       "             param_grid={'C': [0.1], 'gamma': [0.01], 'kernel': ['rbf']},\n",
       "             verbose=3)"
      ]
     },
     "execution_count": 19,
     "metadata": {},
     "output_type": "execute_result"
    }
   ],
   "source": [
    "from sklearn.model_selection import GridSearchCV\n",
    "  \n",
    "# defining parameter range\n",
    "param_grid = {'C': [0.1], \n",
    "              'gamma': [0.01,],\n",
    "              'kernel': ['rbf']} \n",
    "  \n",
    "grid = GridSearchCV(SVC(), param_grid, refit = True, verbose = 3)\n",
    "  \n",
    "# fitting the model for grid search\n",
    "grid.fit(X_train, y_train)"
   ]
  },
  {
   "cell_type": "code",
   "execution_count": 20,
   "metadata": {
    "ExecuteTime": {
     "end_time": "2021-06-20T18:39:59.827499Z",
     "start_time": "2021-06-20T18:39:58.466591Z"
    },
    "colab": {
     "base_uri": "https://localhost:8080/"
    },
    "id": "rAyPxjJ4zIpW",
    "outputId": "49896111-1d44-4603-ce68-ab46dc9f7fcb"
   },
   "outputs": [
    {
     "name": "stdout",
     "output_type": "stream",
     "text": [
      "              precision    recall  f1-score   support\n",
      "\n",
      "           0       1.00      1.00      1.00        86\n",
      "           1       1.00      1.00      1.00       100\n",
      "\n",
      "    accuracy                           1.00       186\n",
      "   macro avg       1.00      1.00      1.00       186\n",
      "weighted avg       1.00      1.00      1.00       186\n",
      "\n"
     ]
    }
   ],
   "source": [
    "grid_predictions = grid.predict(X_test)\n",
    "  \n",
    "# print classification report\n",
    "print(classification_report(y_test, grid_predictions))"
   ]
  },
  {
   "cell_type": "code",
   "execution_count": 21,
   "metadata": {
    "ExecuteTime": {
     "end_time": "2021-06-20T18:39:59.859414Z",
     "start_time": "2021-06-20T18:39:59.830492Z"
    },
    "colab": {
     "base_uri": "https://localhost:8080/",
     "height": 105
    },
    "id": "cFaCu7P4zddu",
    "outputId": "39e2ef50-e527-45bd-ac0d-e6e13e18f8bf"
   },
   "outputs": [
    {
     "data": {
      "text/html": [
       "<div>\n",
       "<style scoped>\n",
       "    .dataframe tbody tr th:only-of-type {\n",
       "        vertical-align: middle;\n",
       "    }\n",
       "\n",
       "    .dataframe tbody tr th {\n",
       "        vertical-align: top;\n",
       "    }\n",
       "\n",
       "    .dataframe thead th {\n",
       "        text-align: right;\n",
       "    }\n",
       "</style>\n",
       "<table border=\"1\" class=\"dataframe\">\n",
       "  <thead>\n",
       "    <tr style=\"text-align: right;\">\n",
       "      <th></th>\n",
       "      <th>Predicted_Malaria</th>\n",
       "      <th>Predicted_Healthy</th>\n",
       "    </tr>\n",
       "  </thead>\n",
       "  <tbody>\n",
       "    <tr>\n",
       "      <th>infected</th>\n",
       "      <td>100</td>\n",
       "      <td>0</td>\n",
       "    </tr>\n",
       "    <tr>\n",
       "      <th>uninfected</th>\n",
       "      <td>0</td>\n",
       "      <td>86</td>\n",
       "    </tr>\n",
       "  </tbody>\n",
       "</table>\n",
       "</div>"
      ],
      "text/plain": [
       "            Predicted_Malaria  Predicted_Healthy\n",
       "infected                  100                  0\n",
       "uninfected                  0                 86"
      ]
     },
     "execution_count": 21,
     "metadata": {},
     "output_type": "execute_result"
    }
   ],
   "source": [
    "cm = np.array(confusion_matrix(y_test, grid_predictions, labels=[1,0]))\n",
    "confusion = pd.DataFrame(cm, index=['infected', 'uninfected'],\n",
    "                         columns=['Predicted_Malaria','Predicted_Healthy'])\n",
    "confusion"
   ]
  },
  {
   "cell_type": "code",
   "execution_count": 22,
   "metadata": {
    "ExecuteTime": {
     "end_time": "2021-06-20T18:40:00.253361Z",
     "start_time": "2021-06-20T18:39:59.862407Z"
    },
    "colab": {
     "base_uri": "https://localhost:8080/",
     "height": 282
    },
    "id": "pTFngxOmzqTx",
    "outputId": "fb44e4a4-d97c-4c0f-9308-90c4c67e557a"
   },
   "outputs": [
    {
     "data": {
      "text/plain": [
       "<AxesSubplot:>"
      ]
     },
     "execution_count": 22,
     "metadata": {},
     "output_type": "execute_result"
    },
    {
     "data": {
      "image/png": "[encoded data removed]",
      "text/plain": [
       "<Figure size 432x288 with 2 Axes>"
      ]
     },
     "metadata": {
      "needs_background": "light"
     },
     "output_type": "display_data"
    }
   ],
   "source": [
    "sns.heatmap(confusion,annot=True,fmt=\"d\")"
   ]
  },
  {
   "cell_type": "code",
   "execution_count": 23,
   "metadata": {
    "ExecuteTime": {
     "end_time": "2021-06-20T18:44:40.387159Z",
     "start_time": "2021-06-20T18:40:00.260343Z"
    },
    "colab": {
     "base_uri": "https://localhost:8080/"
    },
    "id": "TL6Up-OErJOu",
    "outputId": "14c76a09-9725-406f-b2d8-feafbc3c3230"
   },
   "outputs": [
    {
     "name": "stdout",
     "output_type": "stream",
     "text": [
      "Fitting 5 folds for each of 25 candidates, totalling 125 fits\n",
      "[CV 1/5] END .....................C=0.1, gamma=1, kernel=rbf; total time=   3.6s\n",
      "[CV 2/5] END .....................C=0.1, gamma=1, kernel=rbf; total time=   3.7s\n",
      "[CV 3/5] END .....................C=0.1, gamma=1, kernel=rbf; total time=   3.6s\n",
      "[CV 4/5] END .....................C=0.1, gamma=1, kernel=rbf; total time=   3.8s\n",
      "[CV 5/5] END .....................C=0.1, gamma=1, kernel=rbf; total time=   3.7s\n",
      "[CV 1/5] END ...................C=0.1, gamma=0.1, kernel=rbf; total time=   3.6s\n",
      "[CV 2/5] END ...................C=0.1, gamma=0.1, kernel=rbf; total time=   3.7s\n",
      "[CV 3/5] END ...................C=0.1, gamma=0.1, kernel=rbf; total time=   3.7s\n",
      "[CV 4/5] END ...................C=0.1, gamma=0.1, kernel=rbf; total time=   8.0s\n",
      "[CV 5/5] END ...................C=0.1, gamma=0.1, kernel=rbf; total time=   3.7s\n",
      "[CV 1/5] END ..................C=0.1, gamma=0.01, kernel=rbf; total time=   1.8s\n",
      "[CV 2/5] END ..................C=0.1, gamma=0.01, kernel=rbf; total time=   1.8s\n",
      "[CV 3/5] END ..................C=0.1, gamma=0.01, kernel=rbf; total time=   1.9s\n",
      "[CV 4/5] END ..................C=0.1, gamma=0.01, kernel=rbf; total time=   1.8s\n",
      "[CV 5/5] END ..................C=0.1, gamma=0.01, kernel=rbf; total time=   1.9s\n",
      "[CV 1/5] END .................C=0.1, gamma=0.001, kernel=rbf; total time=   1.2s\n",
      "[CV 2/5] END .................C=0.1, gamma=0.001, kernel=rbf; total time=   1.1s\n",
      "[CV 3/5] END .................C=0.1, gamma=0.001, kernel=rbf; total time=   1.2s\n",
      "[CV 4/5] END .................C=0.1, gamma=0.001, kernel=rbf; total time=   1.3s\n",
      "[CV 5/5] END .................C=0.1, gamma=0.001, kernel=rbf; total time=   1.1s\n",
      "[CV 1/5] END ................C=0.1, gamma=0.0001, kernel=rbf; total time=   2.4s\n",
      "[CV 2/5] END ................C=0.1, gamma=0.0001, kernel=rbf; total time=   2.4s\n",
      "[CV 3/5] END ................C=0.1, gamma=0.0001, kernel=rbf; total time=   2.3s\n",
      "[CV 4/5] END ................C=0.1, gamma=0.0001, kernel=rbf; total time=   2.7s\n",
      "[CV 5/5] END ................C=0.1, gamma=0.0001, kernel=rbf; total time=   2.3s\n",
      "[CV 1/5] END .......................C=1, gamma=1, kernel=rbf; total time=   3.8s\n",
      "[CV 2/5] END .......................C=1, gamma=1, kernel=rbf; total time=   3.5s\n",
      "[CV 3/5] END .......................C=1, gamma=1, kernel=rbf; total time=   3.6s\n",
      "[CV 4/5] END .......................C=1, gamma=1, kernel=rbf; total time=   3.5s\n",
      "[CV 5/5] END .......................C=1, gamma=1, kernel=rbf; total time=   3.6s\n",
      "[CV 1/5] END .....................C=1, gamma=0.1, kernel=rbf; total time=   3.4s\n",
      "[CV 2/5] END .....................C=1, gamma=0.1, kernel=rbf; total time=   3.3s\n",
      "[CV 3/5] END .....................C=1, gamma=0.1, kernel=rbf; total time=   3.4s\n",
      "[CV 4/5] END .....................C=1, gamma=0.1, kernel=rbf; total time=   3.3s\n",
      "[CV 5/5] END .....................C=1, gamma=0.1, kernel=rbf; total time=   3.3s\n",
      "[CV 1/5] END ....................C=1, gamma=0.01, kernel=rbf; total time=   1.5s\n",
      "[CV 2/5] END ....................C=1, gamma=0.01, kernel=rbf; total time=   1.5s\n",
      "[CV 3/5] END ....................C=1, gamma=0.01, kernel=rbf; total time=   1.5s\n",
      "[CV 4/5] END ....................C=1, gamma=0.01, kernel=rbf; total time=   1.3s\n",
      "[CV 5/5] END ....................C=1, gamma=0.01, kernel=rbf; total time=   1.5s\n",
      "[CV 1/5] END ...................C=1, gamma=0.001, kernel=rbf; total time=   0.9s\n",
      "[CV 2/5] END ...................C=1, gamma=0.001, kernel=rbf; total time=   0.9s\n",
      "[CV 3/5] END ...................C=1, gamma=0.001, kernel=rbf; total time=   0.8s\n",
      "[CV 4/5] END ...................C=1, gamma=0.001, kernel=rbf; total time=   0.8s\n",
      "[CV 5/5] END ...................C=1, gamma=0.001, kernel=rbf; total time=   0.9s\n",
      "[CV 1/5] END ..................C=1, gamma=0.0001, kernel=rbf; total time=   1.0s\n",
      "[CV 2/5] END ..................C=1, gamma=0.0001, kernel=rbf; total time=   1.1s\n",
      "[CV 3/5] END ..................C=1, gamma=0.0001, kernel=rbf; total time=   1.0s\n",
      "[CV 4/5] END ..................C=1, gamma=0.0001, kernel=rbf; total time=   1.0s\n",
      "[CV 5/5] END ..................C=1, gamma=0.0001, kernel=rbf; total time=   1.0s\n",
      "[CV 1/5] END ......................C=10, gamma=1, kernel=rbf; total time=   3.2s\n",
      "[CV 2/5] END ......................C=10, gamma=1, kernel=rbf; total time=   3.9s\n",
      "[CV 3/5] END ......................C=10, gamma=1, kernel=rbf; total time=   3.2s\n",
      "[CV 4/5] END ......................C=10, gamma=1, kernel=rbf; total time=   3.3s\n",
      "[CV 5/5] END ......................C=10, gamma=1, kernel=rbf; total time=   3.1s\n",
      "[CV 1/5] END ....................C=10, gamma=0.1, kernel=rbf; total time=   3.2s\n",
      "[CV 2/5] END ....................C=10, gamma=0.1, kernel=rbf; total time=   3.3s\n",
      "[CV 3/5] END ....................C=10, gamma=0.1, kernel=rbf; total time=   3.2s\n",
      "[CV 4/5] END ....................C=10, gamma=0.1, kernel=rbf; total time=   3.2s\n",
      "[CV 5/5] END ....................C=10, gamma=0.1, kernel=rbf; total time=   3.2s\n",
      "[CV 1/5] END ...................C=10, gamma=0.01, kernel=rbf; total time=   1.5s\n",
      "[CV 2/5] END ...................C=10, gamma=0.01, kernel=rbf; total time=   1.4s\n",
      "[CV 3/5] END ...................C=10, gamma=0.01, kernel=rbf; total time=   1.5s\n",
      "[CV 4/5] END ...................C=10, gamma=0.01, kernel=rbf; total time=   1.6s\n",
      "[CV 5/5] END ...................C=10, gamma=0.01, kernel=rbf; total time=   1.6s\n",
      "[CV 1/5] END ..................C=10, gamma=0.001, kernel=rbf; total time=   0.7s\n",
      "[CV 2/5] END ..................C=10, gamma=0.001, kernel=rbf; total time=   0.8s\n",
      "[CV 3/5] END ..................C=10, gamma=0.001, kernel=rbf; total time=   0.8s\n",
      "[CV 4/5] END ..................C=10, gamma=0.001, kernel=rbf; total time=   0.8s\n",
      "[CV 5/5] END ..................C=10, gamma=0.001, kernel=rbf; total time=   0.8s\n",
      "[CV 1/5] END .................C=10, gamma=0.0001, kernel=rbf; total time=   0.8s\n",
      "[CV 2/5] END .................C=10, gamma=0.0001, kernel=rbf; total time=   0.8s\n",
      "[CV 3/5] END .................C=10, gamma=0.0001, kernel=rbf; total time=   0.8s\n",
      "[CV 4/5] END .................C=10, gamma=0.0001, kernel=rbf; total time=   0.8s\n",
      "[CV 5/5] END .................C=10, gamma=0.0001, kernel=rbf; total time=   0.8s\n",
      "[CV 1/5] END .....................C=100, gamma=1, kernel=rbf; total time=   3.3s\n",
      "[CV 2/5] END .....................C=100, gamma=1, kernel=rbf; total time=   3.1s\n",
      "[CV 3/5] END .....................C=100, gamma=1, kernel=rbf; total time=   3.3s\n",
      "[CV 4/5] END .....................C=100, gamma=1, kernel=rbf; total time=   3.2s\n",
      "[CV 5/5] END .....................C=100, gamma=1, kernel=rbf; total time=   3.1s\n",
      "[CV 1/5] END ...................C=100, gamma=0.1, kernel=rbf; total time=   3.2s\n",
      "[CV 2/5] END ...................C=100, gamma=0.1, kernel=rbf; total time=   3.2s\n",
      "[CV 3/5] END ...................C=100, gamma=0.1, kernel=rbf; total time=   3.2s\n",
      "[CV 4/5] END ...................C=100, gamma=0.1, kernel=rbf; total time=   3.2s\n",
      "[CV 5/5] END ...................C=100, gamma=0.1, kernel=rbf; total time=   4.5s\n",
      "[CV 1/5] END ..................C=100, gamma=0.01, kernel=rbf; total time=   1.7s\n",
      "[CV 2/5] END ..................C=100, gamma=0.01, kernel=rbf; total time=   1.5s\n",
      "[CV 3/5] END ..................C=100, gamma=0.01, kernel=rbf; total time=   1.4s\n",
      "[CV 4/5] END ..................C=100, gamma=0.01, kernel=rbf; total time=   1.6s\n",
      "[CV 5/5] END ..................C=100, gamma=0.01, kernel=rbf; total time=   1.5s\n",
      "[CV 1/5] END .................C=100, gamma=0.001, kernel=rbf; total time=   0.8s\n",
      "[CV 2/5] END .................C=100, gamma=0.001, kernel=rbf; total time=   0.9s\n",
      "[CV 3/5] END .................C=100, gamma=0.001, kernel=rbf; total time=   0.7s\n",
      "[CV 4/5] END .................C=100, gamma=0.001, kernel=rbf; total time=   0.8s\n",
      "[CV 5/5] END .................C=100, gamma=0.001, kernel=rbf; total time=   0.8s\n",
      "[CV 1/5] END ................C=100, gamma=0.0001, kernel=rbf; total time=   0.8s\n",
      "[CV 2/5] END ................C=100, gamma=0.0001, kernel=rbf; total time=   0.7s\n",
      "[CV 3/5] END ................C=100, gamma=0.0001, kernel=rbf; total time=   0.8s\n",
      "[CV 4/5] END ................C=100, gamma=0.0001, kernel=rbf; total time=   0.8s\n",
      "[CV 5/5] END ................C=100, gamma=0.0001, kernel=rbf; total time=   0.8s\n",
      "[CV 1/5] END ....................C=1000, gamma=1, kernel=rbf; total time=   3.2s\n"
     ]
    },
    {
     "name": "stdout",
     "output_type": "stream",
     "text": [
      "[CV 2/5] END ....................C=1000, gamma=1, kernel=rbf; total time=   3.1s\n",
      "[CV 3/5] END ....................C=1000, gamma=1, kernel=rbf; total time=   3.8s\n",
      "[CV 4/5] END ....................C=1000, gamma=1, kernel=rbf; total time=   3.9s\n",
      "[CV 5/5] END ....................C=1000, gamma=1, kernel=rbf; total time=   3.2s\n",
      "[CV 1/5] END ..................C=1000, gamma=0.1, kernel=rbf; total time=   3.3s\n",
      "[CV 2/5] END ..................C=1000, gamma=0.1, kernel=rbf; total time=   3.2s\n",
      "[CV 3/5] END ..................C=1000, gamma=0.1, kernel=rbf; total time=   3.1s\n",
      "[CV 4/5] END ..................C=1000, gamma=0.1, kernel=rbf; total time=   3.2s\n",
      "[CV 5/5] END ..................C=1000, gamma=0.1, kernel=rbf; total time=   3.2s\n",
      "[CV 1/5] END .................C=1000, gamma=0.01, kernel=rbf; total time=   1.5s\n",
      "[CV 2/5] END .................C=1000, gamma=0.01, kernel=rbf; total time=   1.5s\n",
      "[CV 3/5] END .................C=1000, gamma=0.01, kernel=rbf; total time=   1.4s\n",
      "[CV 4/5] END .................C=1000, gamma=0.01, kernel=rbf; total time=   1.6s\n",
      "[CV 5/5] END .................C=1000, gamma=0.01, kernel=rbf; total time=   1.6s\n",
      "[CV 1/5] END ................C=1000, gamma=0.001, kernel=rbf; total time=   0.8s\n",
      "[CV 2/5] END ................C=1000, gamma=0.001, kernel=rbf; total time=   0.9s\n",
      "[CV 3/5] END ................C=1000, gamma=0.001, kernel=rbf; total time=   0.8s\n",
      "[CV 4/5] END ................C=1000, gamma=0.001, kernel=rbf; total time=   0.7s\n",
      "[CV 5/5] END ................C=1000, gamma=0.001, kernel=rbf; total time=   0.8s\n",
      "[CV 1/5] END ...............C=1000, gamma=0.0001, kernel=rbf; total time=   0.7s\n",
      "[CV 2/5] END ...............C=1000, gamma=0.0001, kernel=rbf; total time=   0.8s\n",
      "[CV 3/5] END ...............C=1000, gamma=0.0001, kernel=rbf; total time=   0.7s\n",
      "[CV 4/5] END ...............C=1000, gamma=0.0001, kernel=rbf; total time=   0.8s\n",
      "[CV 5/5] END ...............C=1000, gamma=0.0001, kernel=rbf; total time=   0.8s\n"
     ]
    },
    {
     "data": {
      "text/plain": [
       "GridSearchCV(estimator=SVC(),\n",
       "             param_grid={'C': [0.1, 1, 10, 100, 1000],\n",
       "                         'gamma': [1, 0.1, 0.01, 0.001, 0.0001],\n",
       "                         'kernel': ['rbf']},\n",
       "             verbose=3)"
      ]
     },
     "execution_count": 23,
     "metadata": {},
     "output_type": "execute_result"
    }
   ],
   "source": [
    "from sklearn.model_selection import GridSearchCV\n",
    "  \n",
    "# defining parameter range\n",
    "param_grid = {'C': [0.1, 1, 10, 100, 1000], \n",
    "              'gamma': [1, 0.1, 0.01, 0.001, 0.0001],\n",
    "              'kernel': ['rbf']} \n",
    "  \n",
    "grid = GridSearchCV(SVC(), param_grid, refit = True, verbose = 3)\n",
    "  \n",
    "# fitting the model for grid search\n",
    "grid.fit(X_train, y_train)"
   ]
  },
  {
   "cell_type": "code",
   "execution_count": 24,
   "metadata": {
    "ExecuteTime": {
     "end_time": "2021-06-20T18:44:41.422394Z",
     "start_time": "2021-06-20T18:44:40.391150Z"
    },
    "colab": {
     "base_uri": "https://localhost:8080/"
    },
    "id": "npXRo2DSQRAc",
    "outputId": "a66439be-b7e7-43cb-c00c-4f5a48b072c5"
   },
   "outputs": [
    {
     "name": "stdout",
     "output_type": "stream",
     "text": [
      "Accuracy: 1.0\n",
      "Confusion Metrix:\n",
      " [[ 86   0]\n",
      " [  0 100]]\n"
     ]
    }
   ],
   "source": [
    "from sklearn.ensemble import RandomForestClassifier\n",
    "#making the instance\n",
    "model=RandomForestClassifier(n_jobs=-1,random_state=123)\n",
    "#learning\n",
    "model.fit(X_train,y_train)\n",
    "#Prediction\n",
    "prediction=model.predict(X_test)\n",
    "#importing the metrics module\n",
    "from sklearn import metrics\n",
    "#evaluation(Accuracy)\n",
    "print(\"Accuracy:\",metrics.accuracy_score(prediction,y_test))\n",
    "#evaluation(Confusion Metrix)\n",
    "print(\"Confusion Metrix:\\n\",metrics.confusion_matrix(prediction,y_test))"
   ]
  },
  {
   "cell_type": "code",
   "execution_count": 25,
   "metadata": {
    "ExecuteTime": {
     "end_time": "2021-06-20T18:44:41.453310Z",
     "start_time": "2021-06-20T18:44:41.425386Z"
    },
    "colab": {
     "base_uri": "https://localhost:8080/",
     "height": 105
    },
    "id": "rN55njL9USdk",
    "outputId": "b671ca7d-4811-4940-dd1e-042aa91bf8c1"
   },
   "outputs": [
    {
     "data": {
      "text/html": [
       "<div>\n",
       "<style scoped>\n",
       "    .dataframe tbody tr th:only-of-type {\n",
       "        vertical-align: middle;\n",
       "    }\n",
       "\n",
       "    .dataframe tbody tr th {\n",
       "        vertical-align: top;\n",
       "    }\n",
       "\n",
       "    .dataframe thead th {\n",
       "        text-align: right;\n",
       "    }\n",
       "</style>\n",
       "<table border=\"1\" class=\"dataframe\">\n",
       "  <thead>\n",
       "    <tr style=\"text-align: right;\">\n",
       "      <th></th>\n",
       "      <th>predicted_malaria</th>\n",
       "      <th>predicted_healthy</th>\n",
       "    </tr>\n",
       "  </thead>\n",
       "  <tbody>\n",
       "    <tr>\n",
       "      <th>is_malaria</th>\n",
       "      <td>100</td>\n",
       "      <td>0</td>\n",
       "    </tr>\n",
       "    <tr>\n",
       "      <th>is_healthy</th>\n",
       "      <td>0</td>\n",
       "      <td>86</td>\n",
       "    </tr>\n",
       "  </tbody>\n",
       "</table>\n",
       "</div>"
      ],
      "text/plain": [
       "            predicted_malaria  predicted_healthy\n",
       "is_malaria                100                  0\n",
       "is_healthy                  0                 86"
      ]
     },
     "execution_count": 25,
     "metadata": {},
     "output_type": "execute_result"
    }
   ],
   "source": [
    "cm = np.array(confusion_matrix(y_test, prediction, labels=[1,0]))\n",
    "confusion = pd.DataFrame(cm, index=['is_malaria', 'is_healthy'],\n",
    "                         columns=['predicted_malaria','predicted_healthy'])\n",
    "confusion"
   ]
  },
  {
   "cell_type": "code",
   "execution_count": 26,
   "metadata": {
    "ExecuteTime": {
     "end_time": "2021-06-20T18:44:41.817336Z",
     "start_time": "2021-06-20T18:44:41.456302Z"
    },
    "colab": {
     "base_uri": "https://localhost:8080/",
     "height": 282
    },
    "id": "naLqUdM4UgZ0",
    "outputId": "6c9993c4-60d2-4f56-b5a1-a39e505784e9"
   },
   "outputs": [
    {
     "data": {
      "text/plain": [
       "<AxesSubplot:>"
      ]
     },
     "execution_count": 26,
     "metadata": {},
     "output_type": "execute_result"
    },
    {
     "data": {
      "image/png": "[encoded data removed]",
      "text/plain": [
       "<Figure size 432x288 with 2 Axes>"
      ]
     },
     "metadata": {
      "needs_background": "light"
     },
     "output_type": "display_data"
    }
   ],
   "source": [
    "\n",
    "sns.heatmap(confusion,annot=True,fmt=\"d\")"
   ]
  },
  {
   "cell_type": "code",
   "execution_count": 27,
   "metadata": {
    "ExecuteTime": {
     "end_time": "2021-06-20T18:44:41.849253Z",
     "start_time": "2021-06-20T18:44:41.822323Z"
    },
    "colab": {
     "base_uri": "https://localhost:8080/"
    },
    "id": "xEmByrRcUjQm",
    "outputId": "079de516-5b18-44d2-94e7-a54d93d23c0c"
   },
   "outputs": [
    {
     "name": "stdout",
     "output_type": "stream",
     "text": [
      "              precision    recall  f1-score   support\n",
      "\n",
      "           0       1.00      1.00      1.00        86\n",
      "           1       1.00      1.00      1.00       100\n",
      "\n",
      "    accuracy                           1.00       186\n",
      "   macro avg       1.00      1.00      1.00       186\n",
      "weighted avg       1.00      1.00      1.00       186\n",
      "\n"
     ]
    }
   ],
   "source": [
    "# print classification report\n",
    "print(classification_report(y_test, prediction))"
   ]
  },
  {
   "cell_type": "code",
   "execution_count": null,
   "metadata": {},
   "outputs": [],
   "source": []
  }
 ],
 "metadata": {
  "colab": {
   "collapsed_sections": [],
   "name": "mal svm.ipynb",
   "provenance": [],
   "toc_visible": true
  },
  "kernelspec": {
   "display_name": "Python 3",
   "language": "python",
   "name": "python3"
  },
  "language_info": {
   "codemirror_mode": {
    "name": "ipython",
    "version": 3
   },
   "file_extension": ".py",
   "mimetype": "text/x-python",
   "name": "python",
   "nbconvert_exporter": "python",
   "pygments_lexer": "ipython3",
   "version": "3.8.8"
  }
 },
 "nbformat": 4,
 "nbformat_minor": 1
}
